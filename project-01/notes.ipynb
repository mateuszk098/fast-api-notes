{
 "cells": [
  {
   "cell_type": "markdown",
   "metadata": {},
   "source": [
    "## **Logika Metod Żądania FastAPI**"
   ]
  },
  {
   "cell_type": "markdown",
   "metadata": {},
   "source": [
    "### **Prosta Klasa Danych**"
   ]
  },
  {
   "cell_type": "code",
   "execution_count": 50,
   "metadata": {},
   "outputs": [],
   "source": [
    "from dataclasses import dataclass\n",
    "\n",
    "\n",
    "@dataclass(kw_only=True)\n",
    "class Book:\n",
    "    \"\"\"Represents a book with a title, author, and category.\"\"\"\n",
    "\n",
    "    title: str\n",
    "    author: str\n",
    "    category: str\n",
    "\n",
    "\n",
    "BOOKS = [\n",
    "    Book(title=\"The Great Gatsby\", author=\"F. Scott Fitzgerald\", category=\"Fiction\"),\n",
    "    Book(title=\"The Da Vinci Code\", author=\"Dan Brown\", category=\"Thriller\"),\n",
    "    Book(title=\"The Catcher in the Rye\", author=\"J.D. Salinger\", category=\"Fiction\"),\n",
    "    Book(title=\"The Alchemist\", author=\"Paulo Coelho\", category=\"Fantasy\"),\n",
    "    Book(title=\"The Hobbit\", author=\"J.R.R. Tolkien\", category=\"Fantasy\"),\n",
    "]"
   ]
  },
  {
   "cell_type": "markdown",
   "metadata": {},
   "source": [
    "Prosta klasa danych `Book` posłuży do celów testowych w trakcie korzystania z FastAPI. W odniesieniu do listy książek będziemy wykonywać tzw. operacje **CRUD**:\n",
    "- CREATE (C) -> POST\n",
    "- READ (R) -> GET\n",
    "- UPDATE (U) -> PUT\n",
    "- DELETE (D) -> DELETE\n",
    "  \n",
    "Krótko mówiąc poprzez API będziemy w stanie utworzyć nowe książki, odczytać informacje o książkach, zaktualizować książki oraz ewentualnie usunąć je z danej listy."
   ]
  },
  {
   "cell_type": "markdown",
   "metadata": {},
   "source": [
    "### **Prosta Aplikacja FastAPI**"
   ]
  },
  {
   "cell_type": "code",
   "execution_count": 51,
   "metadata": {},
   "outputs": [],
   "source": [
    "from fastapi import Body, FastAPI\n",
    "\n",
    "app = FastAPI()\n",
    "\n",
    "\n",
    "@app.get(\"/books\")\n",
    "async def first_api_endpoint() -> list[Book]:\n",
    "    return BOOKS"
   ]
  },
  {
   "cell_type": "markdown",
   "metadata": {},
   "source": [
    "Funkcja `first_api_endpoint()` to zwykła funkcja Pythona zwracająca listę. Jako, że chcemy mieć możliwość czytania lub wysyłania informacji do klienta, należy dodać tzw. endpoint, tak aby klient mógł konsumować daną funkcję. Robimy to poprzez dodanie dekoratora `@app.get(\"/books\")`. Kiedy uruchomimy aplikację i przejdziemy pod adres `localhost:8000/books`, otrzymamy odpowiedź z serwera, którą jest lista książek zwracana w funkcji `first_api_endpoint()`. Tak więc endpoint jest ścieżką, którą definiujemy aby móc wywłować daną funkcję Pythona. Domyślnie podczas definiowania endpointa, słowo kluczowe `async` nie jest potrzebne, gdyż FastAPI zrobi to domyślnie."
   ]
  },
  {
   "cell_type": "markdown",
   "metadata": {},
   "source": [
    "### **Uruchamianie Aplikacji FastAPI**"
   ]
  },
  {
   "cell_type": "markdown",
   "metadata": {},
   "source": [
    "Uruchamianie aplikacji FastAPI następuje poprzez uruchomienie serwera `uvicorn`.\n",
    "\n",
    "```bash\n",
    "uvicorn <FILE>:<APP> --reload\n",
    "```\n",
    "\n",
    "- uvicorn - serwer internetowy instalowany wraz z FastAPI\n",
    "- file - jest to plik `.py`, który definiuje aplikację FastAPI\n",
    "- app - jest to instancja FastAPI\n",
    "- --reload - przeładowuje aplikację za każdym razem kiedy wprowadzane są jakieś zmiany\n",
    "\n",
    "Alternatywą jest:\n",
    "\n",
    "```bash\n",
    "fastapi run <FILE> --reload\n",
    "```"
   ]
  },
  {
   "cell_type": "markdown",
   "metadata": {},
   "source": [
    "### **Parametry Ścieżki**"
   ]
  },
  {
   "cell_type": "markdown",
   "metadata": {},
   "source": [
    "Parametry ścieżki to parametry żądania, które są dołączane do URL i są zwykle używane do znalezienia informacji na podst. lokalizacji. "
   ]
  },
  {
   "cell_type": "code",
   "execution_count": 52,
   "metadata": {},
   "outputs": [],
   "source": [
    "@app.get(\"/books\")\n",
    "async def get_books() -> list[Book]:\n",
    "    return BOOKS"
   ]
  },
  {
   "cell_type": "markdown",
   "metadata": {},
   "source": [
    "W powyższym kodzie ścieżka `/books` jest statyczna i FastAPI nie jest w stanie jej modyfikować. Nie mniej jednak, FastAPI pozwala na definiowanie ścieżek dynamicznych. Osiągamy to poprzez przekazanie parametru w ścieżce. Patrz przykład poniżej."
   ]
  },
  {
   "cell_type": "code",
   "execution_count": 53,
   "metadata": {},
   "outputs": [],
   "source": [
    "@app.get(\"/books/{author}\")\n",
    "async def get_books_by_author(author: str) -> list[Book]:\n",
    "    return list(book for book in BOOKS if book.author.casefold() == author.casefold())"
   ]
  },
  {
   "cell_type": "markdown",
   "metadata": {},
   "source": [
    "**Dynamiczny parametr endpointa musi mieć taką samą nazwę jak parametr funkcji dekorowanej.**"
   ]
  },
  {
   "cell_type": "markdown",
   "metadata": {},
   "source": [
    "### **Parametry Zapytań**"
   ]
  },
  {
   "cell_type": "markdown",
   "metadata": {},
   "source": [
    "Parametry zapytań to parametry żądań, które zostały dołączone po znaku \"?\" i zostały zdefiniowane poprzez pary `key=value`. Przykładowo: `localhost:8000/books/?category=fantasy` zwróci wszystkie książki z kategorii fantasy. Patrz przykład poniżej."
   ]
  },
  {
   "cell_type": "code",
   "execution_count": 54,
   "metadata": {},
   "outputs": [],
   "source": [
    "@app.get(\"/books/\")\n",
    "async def get_books_by_query_category(category: str) -> list[Book]:\n",
    "    return list(book for book in BOOKS if book.category.casefold() == category.casefold())"
   ]
  },
  {
   "cell_type": "markdown",
   "metadata": {},
   "source": [
    "Parametry zapytań i parametry ścieżki mogą być ze sobą łączone."
   ]
  },
  {
   "cell_type": "markdown",
   "metadata": {},
   "source": [
    "### **Metody Żądania POST**"
   ]
  },
  {
   "cell_type": "markdown",
   "metadata": {},
   "source": [
    "Metoda żądania POST jest używana do tworzenia danych. Metoda POST może mieć dodatkową treść z opcjonalnymi informacjami, których nie mają metody żądania GET."
   ]
  },
  {
   "cell_type": "code",
   "execution_count": 55,
   "metadata": {},
   "outputs": [],
   "source": [
    "@app.post(\"/books/create_book\")\n",
    "async def create(new_book: Book = Body()) -> None:\n",
    "    BOOKS.append(new_book)"
   ]
  },
  {
   "cell_type": "markdown",
   "metadata": {},
   "source": [
    "`Body` służy do określenia, że parametr powinien zostać odczytany z treści żądania. Aby wyraźnie to określić, używana jest funkcja `Body()`. `Body()` w tym kontekście służy do poinformowania FastAPI, że parametr `new_book` powinien zostać wyodrębniony z treści JSON przychodzącego żądania POST. Pozwala to FastAPI na przeanalizowanie treści żądania i zweryfikowanie go względem modelu `Book` przed przekazaniem go do funkcji create."
   ]
  },
  {
   "cell_type": "markdown",
   "metadata": {},
   "source": [
    "### **Metody Żądania PUT**"
   ]
  },
  {
   "cell_type": "markdown",
   "metadata": {},
   "source": [
    "Metoda żądania PUT jest używana do aktualizacji danych. Metoda PUT może mieć dodatkową treść z opcjonalnymi informacjami, których nie mają metody żądania GET."
   ]
  },
  {
   "cell_type": "code",
   "execution_count": 56,
   "metadata": {},
   "outputs": [],
   "source": [
    "@app.put(\"/books/update_book\")\n",
    "async def update(updated_book: Book = Body()) -> None:\n",
    "    for book in BOOKS:\n",
    "        if book.title.casefold() == updated_book.title.casefold():\n",
    "            book.author = updated_book.author\n",
    "            book.category = updated_book.category"
   ]
  },
  {
   "cell_type": "markdown",
   "metadata": {},
   "source": [
    "Na przykład, zamiast tworzyć nową książkę, przekażemy książkę, która już istnieje, ale będziemy w stanie zmienić kategorię lub autora."
   ]
  },
  {
   "cell_type": "markdown",
   "metadata": {},
   "source": [
    "### **Metody Żądania DELETE**"
   ]
  },
  {
   "cell_type": "markdown",
   "metadata": {},
   "source": [
    "Metoda żądania DELETE jest używana do usuwania danych. "
   ]
  },
  {
   "cell_type": "code",
   "execution_count": 57,
   "metadata": {},
   "outputs": [],
   "source": [
    "@app.delete(\"/books/delete_book/{title}\")\n",
    "async def delete(book_title: str) -> None:\n",
    "    for book in reversed(BOOKS):\n",
    "        if book.title.casefold() == book_title.casefold():\n",
    "            BOOKS.remove(book)"
   ]
  }
 ],
 "metadata": {
  "kernelspec": {
   "display_name": "fast-api-venv",
   "language": "python",
   "name": "python3"
  },
  "language_info": {
   "codemirror_mode": {
    "name": "ipython",
    "version": 3
   },
   "file_extension": ".py",
   "mimetype": "text/x-python",
   "name": "python",
   "nbconvert_exporter": "python",
   "pygments_lexer": "ipython3",
   "version": "3.12.1"
  }
 },
 "nbformat": 4,
 "nbformat_minor": 2
}
