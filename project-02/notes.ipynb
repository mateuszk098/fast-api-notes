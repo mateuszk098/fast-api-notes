{
 "cells": [
  {
   "cell_type": "markdown",
   "metadata": {},
   "source": [
    "## **Walidacja Danych | Obsługa Wyjątków | Kody Statusu**"
   ]
  },
  {
   "cell_type": "markdown",
   "metadata": {},
   "source": [
    "### **Prosta Klasa Danych**"
   ]
  },
  {
   "cell_type": "code",
   "execution_count": 2,
   "metadata": {},
   "outputs": [],
   "source": [
    "class Book:\n",
    "    \"\"\"Represents a book with a title, author, and category.\"\"\"\n",
    "\n",
    "    def __init__(self, id, title, author, description, rating):\n",
    "        self.id = id\n",
    "        self.title = title\n",
    "        self.author = author\n",
    "        self.description = description\n",
    "        self.rating = rating\n",
    "\n",
    "\n",
    "BOOKS = [\n",
    "    Book(\n",
    "        id=1,\n",
    "        title=\"The Great Gatsby\",\n",
    "        author=\"F. Scott Fitzgerald\",\n",
    "        description=\"A classic novel about the American Dream.\",\n",
    "        rating=4,\n",
    "    ),\n",
    "    Book(\n",
    "        id=2,\n",
    "        title=\"Don Quixote\",\n",
    "        author=\"Miguel de Cervantes\",\n",
    "        description=\"A Spanish novel about what it means to be a knight.\",\n",
    "        rating=5,\n",
    "    ),\n",
    "]"
   ]
  },
  {
   "cell_type": "markdown",
   "metadata": {},
   "source": [
    "Podobnie jak poprzednio, klasa danych `Book` posłuży do celów testowych w FastAPI."
   ]
  },
  {
   "cell_type": "markdown",
   "metadata": {},
   "source": [
    "### **Pydantic**"
   ]
  },
  {
   "cell_type": "markdown",
   "metadata": {},
   "source": [
    "Biblioteka `pydantic` jest używana do modelowania danych, parsowania danych i wydajnej obsługi błędów. Jest powszechnie używana jako źródło informacji na temat walidacji danych i sposobu obsługi danych przychodzących do aplikacji FastAPI."
   ]
  },
  {
   "cell_type": "code",
   "execution_count": 3,
   "metadata": {},
   "outputs": [],
   "source": [
    "from pydantic import BaseModel, Field\n",
    "\n",
    "\n",
    "class RequestBook(BaseModel):\n",
    "    id: int | None = Field(description=\"Unique identifier for the book. Optional\", default=None)\n",
    "    title: str = Field(min_length=1, max_length=50)\n",
    "    author: str = Field(min_length=1, max_length=50)\n",
    "    description: str = Field(min_length=10, max_length=100)\n",
    "    rating: int = Field(ge=1, le=5)\n",
    "\n",
    "    model_config = {\n",
    "        \"json_schema_extra\": {\n",
    "            \"example\": {\n",
    "                \"title\": \"The Great Gatsby\",\n",
    "                \"author\": \"F. Scott Fitzgerald\",\n",
    "                \"description\": \"A classic novel about the American Dream.\",\n",
    "                \"rating\": 4,\n",
    "            }\n",
    "        }\n",
    "    }"
   ]
  },
  {
   "cell_type": "markdown",
   "metadata": {},
   "source": [
    "W powyższym przykładzie tworzymy model książki obsługujący walidację danych przy użyciu biblioteki `pydantic`. Następnie w funkcji tworzącej nową książkę konwertujemy model obsługujący walidację na rzeczywistą instancję książki. \n",
    "\n",
    "Atrybut `model_config` zapewnia dodatkową informację nt. oczekiwanych wartości."
   ]
  },
  {
   "cell_type": "code",
   "execution_count": 4,
   "metadata": {},
   "outputs": [],
   "source": [
    "from fastapi import FastAPI\n",
    "\n",
    "app = FastAPI()\n",
    "\n",
    "\n",
    "@app.post(\"/create-book\")\n",
    "async def create_book(book_request: RequestBook) -> None:\n",
    "    book = Book(**book_request.model_dump())\n",
    "    book.id = create_unique_id()\n",
    "    BOOKS.append(book)\n",
    "\n",
    "\n",
    "def create_unique_id() -> int:\n",
    "    return 1 + max((book.id for book in BOOKS), default=0)"
   ]
  },
  {
   "cell_type": "markdown",
   "metadata": {},
   "source": [
    "### **Walidacja Danych Ścieżki & Zapytań**"
   ]
  },
  {
   "cell_type": "markdown",
   "metadata": {},
   "source": [
    "Możemy zapewnić walidację danych dla parametru ścieżki za pomocą funkcji `Path`."
   ]
  },
  {
   "cell_type": "code",
   "execution_count": 5,
   "metadata": {},
   "outputs": [],
   "source": [
    "from fastapi import Path, Query\n",
    "\n",
    "\n",
    "@app.get(\"/book/{book_id}\")\n",
    "async def get_book(book_id: int = Path(ge=0, description=\"Unique identifier for the book.\")):\n",
    "    for book in BOOKS:\n",
    "        if book.id == book_id:\n",
    "            return book\n",
    "\n",
    "\n",
    "@app.get(\"/books/\")\n",
    "async def get_book_by_rating(rating: int = Query(ge=1, le=5, description=\"Rating of the book.\")):\n",
    "    return list(book for book in BOOKS if book.rating == rating)"
   ]
  },
  {
   "cell_type": "markdown",
   "metadata": {},
   "source": [
    "### **Kody Statusu**"
   ]
  },
  {
   "cell_type": "markdown",
   "metadata": {},
   "source": [
    "Kod statusu HTTP jest używany, aby pomóc klientowi, który jest systemem lub użytkownikiem przesyłającym dane do serwera, zrozumieć co się stało w aplikacji po stronie serwera. Kody statusu są międzynarodowymi standardami określającymi, w jaki sposób klient lub serwer powinien obsługiwać wynik żądania. Dzięki temu każdy, kto wysyła żądanie, wie, czy jego przesłanie powiodło się, czy nie.\n",
    "\n",
    "Najbardziej powszechne kody:\n",
    "- Seria `1xx` - Odpowiedzi informacyjne, że żądanie jest przetwarzane. Może to być informacja dla użytkownika, że coś dzieje się za kulisami.\n",
    "- Seria `2xx` - Udane żądania.\n",
    "- Seria `3xx` - Odczytywane jako wskazówki, co oznacza, że dalsze działania muszą zostać zakończone.\n",
    "- Seria `4xx` - Błędy spowodowane przez klienta.\n",
    "- Seria `5xx` - Błędy serwera.\n",
    "\n",
    "\n",
    "Powszechne kody `2xx` - udane żądania:\n",
    "- `200` - OK. Jest standardową odpowiedzią na pomyślne żądanie. Powszechnie używana w przypadku pomyślnych żądań GET, gdy dane są zwracane do klienta.\n",
    "- `201` - Created. Oznacza to, że żądanie powiodło się i utworzono nowy zasób. Jest to często używane, gdy żądanie POST tworzy nową jednostkę dla aplikacji.\n",
    "- `204` - No content. Oznacza, że zakończyło się ono powodzeniem, ale nie utworzyło encji, ani odpowiedź nie niczego nie zwraca. Jest powszechnie używany do żądań PUT.\n",
    "\n",
    "Powszechne kody `4xx` - błędy klienta:\n",
    "- `400` - Bad request. Oznacza to, że nie może przetworzyć żądania z powodu błędu klienta. Powszechnie używane w przypadku nieprawidłowych metod żądań.\n",
    "- `401` - Unauthorized. Oznacza to, że klient nie ma ważnego uwierzytelnienia dla zasobu docelowego.\n",
    "- `404` - Not found. Oznacza, że nie można znaleźć zasobów żądanych przez klienta.\n",
    "- `422` - Unprocessable entity. Oznacza to, że w żądaniu klienta występują jakieś błędy semantyczne.\n",
    "\n",
    "Powszechne kody `5xx` - błędy serwera:\n",
    "- `500` - Internal server error. Jest to ogólny komunikat o błędzie, gdy wystąpił nieoczekiwany błąd na serwerze."
   ]
  }
 ],
 "metadata": {
  "kernelspec": {
   "display_name": "fast-api-venv",
   "language": "python",
   "name": "python3"
  },
  "language_info": {
   "codemirror_mode": {
    "name": "ipython",
    "version": 3
   },
   "file_extension": ".py",
   "mimetype": "text/x-python",
   "name": "python",
   "nbconvert_exporter": "python",
   "pygments_lexer": "ipython3",
   "version": "3.12.1"
  }
 },
 "nbformat": 4,
 "nbformat_minor": 2
}
