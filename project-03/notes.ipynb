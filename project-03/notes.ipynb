{
 "cells": [
  {
   "cell_type": "markdown",
   "metadata": {},
   "source": [
    "## **Kompletna Aplikacja REST**"
   ]
  },
  {
   "cell_type": "markdown",
   "metadata": {},
   "source": [
    "### **Wstęp**"
   ]
  },
  {
   "cell_type": "markdown",
   "metadata": {},
   "source": [
    "Projekt 3 zakłada zaprogramowanie aplikacji TODO. Aplikacja powinna zawierać/obsługiwać następujące elementy:\n",
    "\n",
    "- Baza SQL - obsługa rekordów i tabel niezbędnych do przechowywania informacji o zadaniach.\n",
    "- Uwierzytelnianie - możliwość tworzenia użytkowników, tj. rejestracja i logowanie.\n",
    "- Autoryzacja - role i obowiązki w których użytkownik może być administratorem, np. dostęp do niektórych endpoint'ów.\n",
    "\n",
    "Aplikacja powinna obsługiwać stronę internetową do komunikacji z serwerem FastAPI oraz bazę danych do komunikacji z samą aplikacją. "
   ]
  },
  {
   "cell_type": "markdown",
   "metadata": {},
   "source": [
    "### **Baza Danych SQLite**\n"
   ]
  },
  {
   "cell_type": "code",
   "execution_count": 5,
   "metadata": {},
   "outputs": [],
   "source": [
    "from sqlalchemy import create_engine\n",
    "from sqlalchemy.orm import declarative_base, sessionmaker\n",
    "\n",
    "SQLALCHEMY_DATABASE_URL = \"sqlite:///./todos.db\"\n",
    "\n",
    "engine = create_engine(SQLALCHEMY_DATABASE_URL, connect_args={\"check_same_thread\": False})\n",
    "SessionLocal = sessionmaker(autocommit=False, autoflush=False, bind=engine)\n",
    "Base = declarative_base()"
   ]
  },
  {
   "cell_type": "markdown",
   "metadata": {},
   "source": [
    "SQLAlchemy to ORM, czyli obiektowe mapowanie relacyjne, z którego będzie korzystać nasza aplikacja Fast API, aby móc utworzyć bazę danych i utworzyć połączenie z bazą danych oraz mieć możliwość korzystania ze wszystkich rekordów bazy w naszej aplikacji.\n",
    "\n",
    "Adres `SQLALCHEMY_DATABASE_URL` zostanie użyty do utworzenia lokalizacji bazy danych w aplikacji Fast API. \n",
    "\n",
    "Funkcja `create_engine()` tworzy silnik `engine` aby móc utworzyć połączenie z bazą. Argument `check_same_thread=False` jest istotny dla baz danych SQLite i pozwala na współdzielenie połączenia z bazą danych przez wiele wątków. Domyślnie połączenia SQLite są jednowątkowe, a to ustawienie zastępuje to zachowanie.\n",
    "\n",
    "Funkcja `sessionmaker()` jest używana do utworzenia fabryki sesji, która jest konfigurowalną fabryką do tworzenia nowych obiektów `Session`. Tutaj `autocommit=False` zapewnia, że transakcje nie są automatycznie zatwierdzane, wymagając wyraźnych zatwierdzeń. Argument `autoflush=False` wyłącza automatyczny przepływ zmian do bazy danych, dając większą kontrolę nad tym, kiedy zmiany są wysyłane. Argument `bind=engine` wiąże sesję z wcześniej utworzonym silnikiem, zapewniając, że wszystkie sesje utworzone przez tę fabrykę będą korzystać z tego samego połączenia z bazą danych.\n",
    "\n",
    "Wreszcie, `Base = declarative_base()` tworzy klasę bazową dla deklaratywnych definicji klas. Ta klasa `Base` będzie używana jako baza dla wszystkich klas mapowanych ORM, umożliwiając im dziedziczenie wspólnych metadanych i metod.\n",
    "\n",
    "Razem, komponenty te tworzą podstawową infrastrukturę dla operacji bazodanowych, umożliwiając tworzenie połączeń bazodanowych, sesji dla transakcji i klas mapowanych ORM do interakcji z tabelami bazy danych."
   ]
  },
  {
   "cell_type": "code",
   "execution_count": 6,
   "metadata": {},
   "outputs": [],
   "source": [
    "from sqlalchemy import Boolean, Column, Integer, String\n",
    "\n",
    "\n",
    "class Todos(Base):\n",
    "    __tablename__ = \"todos\"\n",
    "\n",
    "    id = Column(Integer, primary_key=True, index=True)\n",
    "    title = Column(String)\n",
    "    description = Column(String)\n",
    "    priority = Column(Integer)\n",
    "    complete = Column(Boolean, default=False)"
   ]
  },
  {
   "cell_type": "markdown",
   "metadata": {},
   "source": [
    "Model `Todos` reprezentuje tabelę w relacyjnej bazie danych, gdzie każda instancja klasy `Todos` odpowiada wierszowi w tabeli. Atrybut `__tablename__` określa nazwę tabeli w bazie danych. W klasie `Todos` zdefiniowanych jest kilka kolumn przy użyciu klasy `Column` SQLAlchemy. Każda kolumna odpowiada polu w tabeli bazy danych."
   ]
  },
  {
   "cell_type": "code",
   "execution_count": 7,
   "metadata": {},
   "outputs": [],
   "source": [
    "from fastapi import FastAPI\n",
    "\n",
    "app = FastAPI()\n",
    "Base.metadata.create_all(bind=engine)"
   ]
  },
  {
   "cell_type": "markdown",
   "metadata": {},
   "source": [
    "Ten fragment kodu konfiguruje aplikację FastAPI i zapewnia utworzenie niezbędnych tabel bazy danych za pomocą SQLAlchemy. \n",
    "Metoda `create_all` jest wywoływana w celu utworzenia wszystkich tabel w bazie danych, które są zdefiniowane przez modele. Argument `bind=engine` określa silnik bazy danych, który ma być używany do tworzenia tabel."
   ]
  },
  {
   "cell_type": "markdown",
   "metadata": {},
   "source": [
    "### **Obsługa Bazy Danych SQLite**"
   ]
  },
  {
   "cell_type": "markdown",
   "metadata": {},
   "source": [
    "W celu obsługi bazy danych SQLite możemy zainstalować pakiet narzędzi wiersza poleceń -> https://www.sqlite.org/download.html. Następnie uruchamiamy następujące polecenie:\n",
    "\n",
    "```bash\n",
    "sqlite3\n",
    "```"
   ]
  },
  {
   "cell_type": "markdown",
   "metadata": {},
   "source": [
    "### **FastAPI - Obsługa Tabel**"
   ]
  },
  {
   "cell_type": "code",
   "execution_count": 8,
   "metadata": {},
   "outputs": [],
   "source": [
    "from typing import Annotated\n",
    "\n",
    "from fastapi import Depends\n",
    "from sqlalchemy.orm import Session\n",
    "from starlette import status\n",
    "\n",
    "\n",
    "def get_db():\n",
    "    db = SessionLocal()\n",
    "    try:\n",
    "        yield db\n",
    "    finally:\n",
    "        db.close()\n",
    "\n",
    "\n",
    "@app.get(\"/\", status_code=status.HTTP_200_OK)\n",
    "async def read_all(db: Annotated[Session, Depends(get_db)]):\n",
    "    return db.query(Todos).all()"
   ]
  },
  {
   "cell_type": "markdown",
   "metadata": {},
   "source": [
    "Funkcja `read_all()` przyjmuje pojedynczy parametr `db`, który jest opatrzony adnotacją `Annotated[Session, Depends(get_db)]`. Adnotacja ta wskazuje, że `db` jest zależnością, która powinna być dostarczona przez funkcję `get_db()`. Funkcja `Depends` jest narzędziem dostarczanym przez FastAPI do deklarowania zależności, a `get_db()` jest funkcją, która konfiguruje i dostarcza sesję bazy danych SQLAlchemy. Wewnątrz funkcji, `db.query(Todos).all()` wywołuje zapytanie do bazy danych o wszystkie rekordy w tabeli `Todos`.\n",
    "\n",
    "Tak więc jesteśmy w stanie pobrać wszystkie informacje z naszej bazy danych, ponieważ używamy wstrzykiwania zależności aby najpierw pobrać i uruchomić `get_db()`. Sprawia to, że nasza baza danych ma teraz sesję lokalną, co tak naprawdę oznacza, że jesteśmy w stanie skontaktować się z bazą danych."
   ]
  },
  {
   "cell_type": "markdown",
   "metadata": {},
   "source": [
    "### **Uwierzytelnianie & Autoryzacja**"
   ]
  },
  {
   "cell_type": "markdown",
   "metadata": {},
   "source": []
  }
 ],
 "metadata": {
  "kernelspec": {
   "display_name": "fast-api-venv",
   "language": "python",
   "name": "python3"
  },
  "language_info": {
   "codemirror_mode": {
    "name": "ipython",
    "version": 3
   },
   "file_extension": ".py",
   "mimetype": "text/x-python",
   "name": "python",
   "nbconvert_exporter": "python",
   "pygments_lexer": "ipython3",
   "version": "3.12.1"
  }
 },
 "nbformat": 4,
 "nbformat_minor": 2
}
